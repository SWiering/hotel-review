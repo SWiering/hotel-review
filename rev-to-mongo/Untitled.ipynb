{
 "cells": [
  {
   "cell_type": "code",
   "execution_count": 10,
   "metadata": {},
   "outputs": [],
   "source": [
    "import pandas as pd\n",
    "import sqlalchemy as sqla"
   ]
  },
  {
   "cell_type": "code",
   "execution_count": 6,
   "metadata": {},
   "outputs": [],
   "source": [
    "reviews = pd.read_csv('../../src/reviews.csv')"
   ]
  },
  {
   "cell_type": "code",
   "execution_count": 7,
   "metadata": {},
   "outputs": [],
   "source": [
    "negative_df = reviews.loc[:,[\"Negative_Review\", \"Review_Total_Negative_Word_Counts\"]]\n",
    "negative_df[\"positive\"] = 0\n",
    "negative_df = negative_df.rename(columns={\n",
    "    \"Negative_Review\": \"review\",\n",
    "    \"Review_Total_Negative_Word_Counts\": \"word_count\"\n",
    "})\n",
    "\n",
    "positive_df = reviews.loc[:,[\"Positive_Review\", \"Review_Total_Positive_Word_Counts\"]]\n",
    "positive_df[\"positive\"] = 1\n",
    "positive_df = positive_df.rename(columns={\n",
    "    \"Positive_Review\": \"review\",\n",
    "    \"Review_Total_Positive_Word_Counts\": \"word_count\"\n",
    "})\n",
    "\n",
    "reviews_df = pd.concat([negative_df, positive_df]).reset_index(drop=True)\n",
    "\n",
    "no_empty = reviews_df\n",
    "\n",
    "# Remove the empty reviews\n",
    "no_empty = no_empty[no_empty.word_count != 0]\n",
    "# reset the index\n",
    "no_empty = no_empty.reset_index(drop=True)"
   ]
  },
  {
   "cell_type": "code",
   "execution_count": 11,
   "metadata": {},
   "outputs": [],
   "source": [
    "from pymongo import MongoClient"
   ]
  },
  {
   "cell_type": "code",
   "execution_count": 15,
   "metadata": {},
   "outputs": [],
   "source": [
    "client = MongoClient(\"localhost:27017\")\n",
    "db=client.hotels"
   ]
  },
  {
   "cell_type": "code",
   "execution_count": 16,
   "metadata": {},
   "outputs": [
    {
     "data": {
      "text/plain": [
       "<pymongo.results.InsertManyResult at 0x2d1644d0b88>"
      ]
     },
     "execution_count": 16,
     "metadata": {},
     "output_type": "execute_result"
    }
   ],
   "source": [
    "db.reviews.insert_many(no_empty.to_dict('records'))"
   ]
  }
 ],
 "metadata": {
  "kernelspec": {
   "display_name": "Python 3",
   "language": "python",
   "name": "python3"
  },
  "language_info": {
   "codemirror_mode": {
    "name": "ipython",
    "version": 3
   },
   "file_extension": ".py",
   "mimetype": "text/x-python",
   "name": "python",
   "nbconvert_exporter": "python",
   "pygments_lexer": "ipython3",
   "version": "3.7.3"
  }
 },
 "nbformat": 4,
 "nbformat_minor": 2
}
