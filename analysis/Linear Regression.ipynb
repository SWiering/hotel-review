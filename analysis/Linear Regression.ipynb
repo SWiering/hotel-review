{
 "cells": [
  {
   "cell_type": "code",
   "execution_count": 1,
   "metadata": {},
   "outputs": [],
   "source": [
    "import re, nltk\n",
    "import sqlalchemy as sql\n",
    "import pandas as pd\n",
    "from sklearn.metrics import accuracy_score\n",
    "from sklearn.linear_model import LogisticRegression\n",
    "from sklearn.model_selection import train_test_split\n",
    "from sklearn.feature_extraction.text import CountVectorizer"
   ]
  },
  {
   "cell_type": "markdown",
   "metadata": {},
   "source": [
    "# Set important globals here"
   ]
  },
  {
   "cell_type": "code",
   "execution_count": 2,
   "metadata": {},
   "outputs": [],
   "source": [
    "# Set limit for reviews\n",
    "MAX_LIMIT = 100000\n",
    "# Create database connection\n",
    "def call_procedure(function_name, params):\n",
    "    \n",
    "    connection = sql.create_engine('mysql://root:@localhost/hotel-reviews?charset=utf8').raw_connection()\n",
    "    try:\n",
    "        cursor = connection.cursor()\n",
    "        cursor.callproc(function_name, params)\n",
    "        results = list(cursor.fetchall())\n",
    "        cursor.close()\n",
    "        connection.commit()\n",
    "        return results\n",
    "    finally:\n",
    "        connection.close()\n",
    "        \n",
    "def proces_text(the_text):\n",
    "     # Remove all the special characters (pro_fea = processed feature)\n",
    "    pro_fea = re.sub(r'\\W', ' ', the_text)\n",
    "    # remove all single characters\n",
    "    pro_fea = re.sub(r'\\s+[a-zA-Z]\\s+', ' ', pro_fea)\n",
    "    # Remove single characters from the start\n",
    "    pro_fea = re.sub(r'\\^[a-zA-Z]\\s+', ' ', pro_fea) \n",
    "    # Substituting multiple spaces with single space\n",
    "    pro_fea = re.sub(r'\\s+', ' ', pro_fea, flags=re.I)\n",
    "    # Removing prefixed 'b'\n",
    "    pro_fea = re.sub(r'^b\\s+', '', pro_fea)\n",
    "    # Converting to Lowercase\n",
    "    pro_fea = pro_fea.lower()\n",
    "    return pro_fea"
   ]
  },
  {
   "cell_type": "markdown",
   "metadata": {},
   "source": [
    "## Get positive and negative reviews"
   ]
  },
  {
   "cell_type": "code",
   "execution_count": 3,
   "metadata": {},
   "outputs": [
    {
     "name": "stdout",
     "output_type": "stream",
     "text": [
      "length pos: 100000 length neg: 100000\n"
     ]
    }
   ],
   "source": [
    "pos = pd.DataFrame(call_procedure('getReviews', [MAX_LIMIT, 1]), columns=['id', 'content', 'positive'])\n",
    "neg = pd.DataFrame(call_procedure('getReviews', [MAX_LIMIT, 0]), columns=['id', 'content', 'positive'])\n",
    "\n",
    "print('length pos:', len(pos), 'length neg:', len(neg))"
   ]
  },
  {
   "cell_type": "code",
   "execution_count": 4,
   "metadata": {},
   "outputs": [
    {
     "name": "stdout",
     "output_type": "stream",
     "text": [
      "len pos_text: 100000 len pos_labels: 100000 len neg_text: 100000 len neg_labels: 100000\n"
     ]
    }
   ],
   "source": [
    "pos_text = []\n",
    "pos_labels = []\n",
    "for df_index, df_value in pos.iterrows():\n",
    "    pos_text.append(proces_text(df_value['content']))    \n",
    "    pos_labels.append('pos')\n",
    "    \n",
    "neg_text = []\n",
    "neg_labels = []\n",
    "for df_index, df_value in neg.iterrows():\n",
    "    neg_text.append(proces_text(df_value['content']))    \n",
    "    neg_labels.append('neg')\n",
    "    \n",
    "# all lengths should be same as MAX_LIMIT\n",
    "print('len pos_text:', len(pos_text), 'len pos_labels:', len(pos_labels), 'len neg_text:', len(neg_text), 'len neg_labels:', len(neg_labels))"
   ]
  },
  {
   "cell_type": "markdown",
   "metadata": {},
   "source": [
    "## Create training and test text/labels"
   ]
  },
  {
   "cell_type": "code",
   "execution_count": 5,
   "metadata": {},
   "outputs": [
    {
     "name": "stdout",
     "output_type": "stream",
     "text": [
      "len training_text: 160000 len training_labels: 160000 len test_text: 40000 len test_labels: 40000\n"
     ]
    }
   ],
   "source": [
    "# make the training set 80% of max limit\n",
    "training_limit = int(MAX_LIMIT * .8)\n",
    "\n",
    "# Training text and labels are 160% of MAX LIMIT (this is because of merging positive and negative) (and 80% of total)\n",
    "training_text = pos_text[:training_limit] + neg_text[:training_limit]\n",
    "training_labels = pos_labels[:training_limit] + neg_labels[:training_limit]\n",
    "\n",
    "# Test text and labels are 40% of MAX LIMIT (and 20% of total)\n",
    "test_text = pos_text[training_limit:] + neg_text[training_limit:]\n",
    "test_labels = pos_labels[training_limit:] + neg_labels[training_limit:]\n",
    "\n",
    "print('len training_text:', len(training_text), 'len training_labels:', len(training_labels), 'len test_text:', len(test_text), 'len test_labels:', len(test_labels))"
   ]
  },
  {
   "cell_type": "markdown",
   "metadata": {},
   "source": [
    "## Other stuff"
   ]
  },
  {
   "cell_type": "code",
   "execution_count": 12,
   "metadata": {},
   "outputs": [
    {
     "data": {
      "text/html": [
       "<div>\n",
       "<style scoped>\n",
       "    .dataframe tbody tr th:only-of-type {\n",
       "        vertical-align: middle;\n",
       "    }\n",
       "\n",
       "    .dataframe tbody tr th {\n",
       "        vertical-align: top;\n",
       "    }\n",
       "\n",
       "    .dataframe thead th {\n",
       "        text-align: right;\n",
       "    }\n",
       "</style>\n",
       "<table border=\"1\" class=\"dataframe\">\n",
       "  <thead>\n",
       "    <tr style=\"text-align: right;\">\n",
       "      <th></th>\n",
       "      <th>0</th>\n",
       "    </tr>\n",
       "  </thead>\n",
       "  <tbody>\n",
       "    <tr>\n",
       "      <td>0</td>\n",
       "      <td>(0, 122)\\t1\\n  (0, 162)\\t2\\n  (0, 130)\\t1\\n ...</td>\n",
       "    </tr>\n",
       "    <tr>\n",
       "      <td>1</td>\n",
       "      <td>(0, 162)\\t4\\n  (0, 117)\\t1\\n  (0, 86)\\t1\\n  ...</td>\n",
       "    </tr>\n",
       "    <tr>\n",
       "      <td>2</td>\n",
       "      <td>(0, 162)\\t1\\n  (0, 86)\\t1\\n  (0, 181)\\t1\\n  ...</td>\n",
       "    </tr>\n",
       "    <tr>\n",
       "      <td>3</td>\n",
       "      <td>(0, 162)\\t2\\n  (0, 80)\\t1\\n  (0, 94)\\t1\\n  (...</td>\n",
       "    </tr>\n",
       "    <tr>\n",
       "      <td>4</td>\n",
       "      <td>(0, 94)\\t1\\n  (0, 8)\\t1\\n  (0, 35)\\t1\\n  (0,...</td>\n",
       "    </tr>\n",
       "    <tr>\n",
       "      <td>...</td>\n",
       "      <td>...</td>\n",
       "    </tr>\n",
       "    <tr>\n",
       "      <td>199995</td>\n",
       "      <td>(0, 114)\\t1</td>\n",
       "    </tr>\n",
       "    <tr>\n",
       "      <td>199996</td>\n",
       "      <td>(0, 162)\\t1\\n  (0, 181)\\t2\\n  (0, 120)\\t1\\n ...</td>\n",
       "    </tr>\n",
       "    <tr>\n",
       "      <td>199997</td>\n",
       "      <td>(0, 117)\\t1\\n  (0, 181)\\t1\\n  (0, 168)\\t1\\n ...</td>\n",
       "    </tr>\n",
       "    <tr>\n",
       "      <td>199998</td>\n",
       "      <td>(0, 34)\\t1\\n  (0, 147)\\t1</td>\n",
       "    </tr>\n",
       "    <tr>\n",
       "      <td>199999</td>\n",
       "      <td>(0, 162)\\t1\\n  (0, 10)\\t1\\n  (0, 198)\\t1\\n  ...</td>\n",
       "    </tr>\n",
       "  </tbody>\n",
       "</table>\n",
       "<p>200000 rows × 1 columns</p>\n",
       "</div>"
      ],
      "text/plain": [
       "                                                        0\n",
       "0         (0, 122)\\t1\\n  (0, 162)\\t2\\n  (0, 130)\\t1\\n ...\n",
       "1         (0, 162)\\t4\\n  (0, 117)\\t1\\n  (0, 86)\\t1\\n  ...\n",
       "2         (0, 162)\\t1\\n  (0, 86)\\t1\\n  (0, 181)\\t1\\n  ...\n",
       "3         (0, 162)\\t2\\n  (0, 80)\\t1\\n  (0, 94)\\t1\\n  (...\n",
       "4         (0, 94)\\t1\\n  (0, 8)\\t1\\n  (0, 35)\\t1\\n  (0,...\n",
       "...                                                   ...\n",
       "199995                                        (0, 114)\\t1\n",
       "199996    (0, 162)\\t1\\n  (0, 181)\\t2\\n  (0, 120)\\t1\\n ...\n",
       "199997    (0, 117)\\t1\\n  (0, 181)\\t1\\n  (0, 168)\\t1\\n ...\n",
       "199998                          (0, 34)\\t1\\n  (0, 147)\\t1\n",
       "199999    (0, 162)\\t1\\n  (0, 10)\\t1\\n  (0, 198)\\t1\\n  ...\n",
       "\n",
       "[200000 rows x 1 columns]"
      ]
     },
     "execution_count": 12,
     "metadata": {},
     "output_type": "execute_result"
    }
   ],
   "source": [
    "vectorizer = CountVectorizer(analyzer='word', lowercase=False, max_features=200)\n",
    "features = vectorizer.fit_transform(training_text + test_text)\n",
    "features_nd = features.toarray()"
   ]
  },
  {
   "cell_type": "code",
   "execution_count": null,
   "metadata": {},
   "outputs": [],
   "source": []
  },
  {
   "cell_type": "code",
   "execution_count": 7,
   "metadata": {},
   "outputs": [],
   "source": [
    "x_train, x_test, y_train, y_test = train_test_split(\n",
    "    features_nd[0:len(training_text)], \n",
    "    training_labels,\n",
    "    train_size=0.80, \n",
    "    random_state=1234\n",
    ")"
   ]
  },
  {
   "cell_type": "code",
   "execution_count": 8,
   "metadata": {},
   "outputs": [],
   "source": [
    "log_model = LogisticRegression(solver='lbfgs')\n",
    "log_model = log_model.fit(X=x_train, y=y_train)\n",
    "y_pred = log_model.predict(x_test)"
   ]
  },
  {
   "cell_type": "code",
   "execution_count": 9,
   "metadata": {},
   "outputs": [
    {
     "name": "stdout",
     "output_type": "stream",
     "text": [
      "    |     n     p |\n",
      "    |     e     o |\n",
      "    |     g     s |\n",
      "----+-------------+\n",
      "neg |<14966> 1000 |\n",
      "pos |  1900<14134>|\n",
      "----+-------------+\n",
      "(row = reference; col = test)\n",
      "\n"
     ]
    }
   ],
   "source": [
    "print(nltk.ConfusionMatrix(list(y_test), list(y_pred)))"
   ]
  },
  {
   "cell_type": "code",
   "execution_count": 10,
   "metadata": {},
   "outputs": [
    {
     "name": "stdout",
     "output_type": "stream",
     "text": [
      "0.909375\n"
     ]
    }
   ],
   "source": [
    "print(accuracy_score(y_test, y_pred))"
   ]
  },
  {
   "cell_type": "code",
   "execution_count": 15,
   "metadata": {},
   "outputs": [
    {
     "ename": "ModuleNotFoundError",
     "evalue": "No module named 'matplotlib'",
     "output_type": "error",
     "traceback": [
      "\u001b[1;31m---------------------------------------------------------------------------\u001b[0m",
      "\u001b[1;31mModuleNotFoundError\u001b[0m                       Traceback (most recent call last)",
      "\u001b[1;32m<ipython-input-15-17a14244f79d>\u001b[0m in \u001b[0;36m<module>\u001b[1;34m\u001b[0m\n\u001b[1;32m----> 1\u001b[1;33m \u001b[1;32mimport\u001b[0m \u001b[0mmatplotlib\u001b[0m\u001b[1;33m.\u001b[0m\u001b[0mpyplot\u001b[0m \u001b[1;32mas\u001b[0m \u001b[0mplt\u001b[0m\u001b[1;33m\u001b[0m\u001b[1;33m\u001b[0m\u001b[0m\n\u001b[0m\u001b[0;32m      2\u001b[0m \u001b[1;33m\u001b[0m\u001b[0m\n\u001b[0;32m      3\u001b[0m \u001b[0mplt\u001b[0m\u001b[1;33m.\u001b[0m\u001b[0mplot\u001b[0m\u001b[1;33m(\u001b[0m\u001b[0mfeatures_nd\u001b[0m\u001b[1;33m)\u001b[0m\u001b[1;33m\u001b[0m\u001b[1;33m\u001b[0m\u001b[0m\n",
      "\u001b[1;31mModuleNotFoundError\u001b[0m: No module named 'matplotlib'"
     ]
    }
   ],
   "source": [
    "import matplotlib.pyplot as plt\n",
    "\n",
    "plt.plot(features_nd)"
   ]
  },
  {
   "cell_type": "code",
   "execution_count": null,
   "metadata": {},
   "outputs": [],
   "source": []
  },
  {
   "cell_type": "code",
   "execution_count": null,
   "metadata": {},
   "outputs": [],
   "source": []
  },
  {
   "cell_type": "code",
   "execution_count": null,
   "metadata": {},
   "outputs": [],
   "source": []
  }
 ],
 "metadata": {
  "kernelspec": {
   "display_name": "Python 3",
   "language": "python",
   "name": "python3"
  },
  "language_info": {
   "codemirror_mode": {
    "name": "ipython",
    "version": 3
   },
   "file_extension": ".py",
   "mimetype": "text/x-python",
   "name": "python",
   "nbconvert_exporter": "python",
   "pygments_lexer": "ipython3",
   "version": "3.7.4"
  }
 },
 "nbformat": 4,
 "nbformat_minor": 2
}
