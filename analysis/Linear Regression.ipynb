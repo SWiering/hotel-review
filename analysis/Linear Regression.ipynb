{
 "cells": [
  {
   "cell_type": "code",
   "execution_count": 1,
   "metadata": {},
   "outputs": [],
   "source": [
    "import re, nltk\n",
    "import sqlalchemy as sql\n",
    "import pandas as pd\n",
    "from nltk.corpus import stopwords\n",
    "from yellowbrick.text import FreqDistVisualizer\n",
    "from sklearn.metrics import accuracy_score\n",
    "from sklearn.linear_model import LogisticRegression\n",
    "from sklearn.model_selection import train_test_split\n",
    "from sklearn.feature_extraction.text import CountVectorizer"
   ]
  },
  {
   "cell_type": "markdown",
   "metadata": {},
   "source": [
    "# Set important globals here"
   ]
  },
  {
   "cell_type": "code",
   "execution_count": 2,
   "metadata": {},
   "outputs": [],
   "source": [
    "# Set limit for reviews\n",
    "MAX_LIMIT = 100000\n",
    "# Create database connection\n",
    "def call_procedure(function_name, params):\n",
    "    \n",
    "    connection = sql.create_engine('mysql://root:@localhost/hotel-reviews?charset=utf8').raw_connection()\n",
    "    try:\n",
    "        cursor = connection.cursor()\n",
    "        cursor.callproc(function_name, params)\n",
    "        results = list(cursor.fetchall())\n",
    "        cursor.close()\n",
    "        connection.commit()\n",
    "        return results\n",
    "    finally:\n",
    "        connection.close()\n",
    "        \n",
    "def proces_text(the_text):\n",
    "     # Remove all the special characters (pro_fea = processed feature)\n",
    "    pro_fea = re.sub(r'\\W', ' ', the_text)\n",
    "    # remove all single characters\n",
    "    pro_fea = re.sub(r'\\s+[a-zA-Z]\\s+', ' ', pro_fea)\n",
    "    # Remove single characters from the start\n",
    "    pro_fea = re.sub(r'\\^[a-zA-Z]\\s+', ' ', pro_fea) \n",
    "    # Substituting multiple spaces with single space\n",
    "    pro_fea = re.sub(r'\\s+', ' ', pro_fea, flags=re.I)\n",
    "    # Removing prefixed 'b'\n",
    "    pro_fea = re.sub(r'^b\\s+', '', pro_fea)\n",
    "    # Converting to Lowercase\n",
    "    pro_fea = pro_fea.lower()\n",
    "    return pro_fea"
   ]
  },
  {
   "cell_type": "markdown",
   "metadata": {},
   "source": [
    "## Get positive and negative reviews"
   ]
  },
  {
   "cell_type": "code",
   "execution_count": 3,
   "metadata": {},
   "outputs": [
    {
     "name": "stdout",
     "output_type": "stream",
     "text": [
      "length pos: 100000 length neg: 100000\n"
     ]
    }
   ],
   "source": [
    "pos = pd.DataFrame(call_procedure('getReviews', [MAX_LIMIT, 1]), columns=['id', 'content', 'positive'])\n",
    "neg = pd.DataFrame(call_procedure('getReviews', [MAX_LIMIT, 0]), columns=['id', 'content', 'positive'])\n",
    "\n",
    "print('length pos:', len(pos), 'length neg:', len(neg))"
   ]
  },
  {
   "cell_type": "code",
   "execution_count": 4,
   "metadata": {},
   "outputs": [
    {
     "name": "stdout",
     "output_type": "stream",
     "text": [
      "len pos_text: 100000 len pos_labels: 100000 len neg_text: 100000 len neg_labels: 100000\n"
     ]
    }
   ],
   "source": [
    "pos_text = []\n",
    "pos_labels = []\n",
    "for df_index, df_value in pos.iterrows():\n",
    "    pos_text.append(proces_text(df_value['content']))    \n",
    "    pos_labels.append('pos')\n",
    "    \n",
    "neg_text = []\n",
    "neg_labels = []\n",
    "for df_index, df_value in neg.iterrows():\n",
    "    neg_text.append(proces_text(df_value['content']))    \n",
    "    neg_labels.append('neg')\n",
    "    \n",
    "# all lengths should be same as MAX_LIMIT\n",
    "print('len pos_text:', len(pos_text), 'len pos_labels:', len(pos_labels), 'len neg_text:', len(neg_text), 'len neg_labels:', len(neg_labels))"
   ]
  },
  {
   "cell_type": "markdown",
   "metadata": {},
   "source": [
    "## Create training and test text/labels"
   ]
  },
  {
   "cell_type": "code",
   "execution_count": 5,
   "metadata": {},
   "outputs": [
    {
     "name": "stdout",
     "output_type": "stream",
     "text": [
      "len training_text: 160000 len training_labels: 160000 len test_text: 40000 len test_labels: 40000\n"
     ]
    }
   ],
   "source": [
    "# make the training set 80% of max limit\n",
    "training_limit = int(MAX_LIMIT * .8)\n",
    "\n",
    "# Training text and labels are 160% of MAX LIMIT (this is because of merging positive and negative) (and 80% of total)\n",
    "training_text = pos_text[:training_limit] + neg_text[:training_limit]\n",
    "training_labels = pos_labels[:training_limit] + neg_labels[:training_limit]\n",
    "\n",
    "# Test text and labels are 40% of MAX LIMIT (and 20% of total)\n",
    "test_text = pos_text[training_limit:] + neg_text[training_limit:]\n",
    "test_labels = pos_labels[training_limit:] + neg_labels[training_limit:]\n",
    "\n",
    "print('len training_text:', len(training_text), 'len training_labels:', len(training_labels), 'len test_text:', len(test_text), 'len test_labels:', len(test_labels))"
   ]
  },
  {
   "cell_type": "markdown",
   "metadata": {},
   "source": [
    "## Other stuff"
   ]
  },
  {
   "cell_type": "code",
   "execution_count": 6,
   "metadata": {},
   "outputs": [],
   "source": [
    "vectorizer = CountVectorizer(analyzer='word', lowercase=False, max_features=200, stop_words=stopwords.words('english'))\n",
    "features = vectorizer.fit_transform(training_text + test_text)\n",
    "features_nd = features.toarray()"
   ]
  },
  {
   "cell_type": "code",
   "execution_count": 7,
   "metadata": {},
   "outputs": [],
   "source": [
    "x_train, x_test, y_train, y_test = train_test_split(\n",
    "    features_nd[0:len(training_text)], \n",
    "    training_labels,\n",
    "    train_size=0.80, \n",
    "    random_state=1234\n",
    ")"
   ]
  },
  {
   "cell_type": "code",
   "execution_count": 8,
   "metadata": {},
   "outputs": [],
   "source": [
    "log_model = LogisticRegression(solver='lbfgs')\n",
    "log_model = log_model.fit(X=x_train, y=y_train)\n",
    "y_pred = log_model.predict(x_test)"
   ]
  },
  {
   "cell_type": "code",
   "execution_count": 9,
   "metadata": {},
   "outputs": [
    {
     "name": "stdout",
     "output_type": "stream",
     "text": [
      "    |     n     p |\n",
      "    |     e     o |\n",
      "    |     g     s |\n",
      "----+-------------+\n",
      "neg |<14705> 1261 |\n",
      "pos |  2088<13946>|\n",
      "----+-------------+\n",
      "(row = reference; col = test)\n",
      "\n"
     ]
    }
   ],
   "source": [
    "print(nltk.ConfusionMatrix(list(y_test), list(y_pred)))"
   ]
  },
  {
   "cell_type": "code",
   "execution_count": 10,
   "metadata": {},
   "outputs": [
    {
     "name": "stdout",
     "output_type": "stream",
     "text": [
      "0.89534375\n"
     ]
    }
   ],
   "source": [
    "print(accuracy_score(y_test, y_pred))"
   ]
  },
  {
   "cell_type": "code",
   "execution_count": 11,
   "metadata": {},
   "outputs": [
    {
     "data": {
      "image/png": "[encoded data removed]",
      "text/plain": [
       "<Figure size 432x288 with 1 Axes>"
      ]
     },
     "metadata": {
      "needs_background": "light"
     },
     "output_type": "display_data"
    },
    {
     "data": {
      "text/plain": [
       "<matplotlib.axes._subplots.AxesSubplot at 0x24a309b2048>"
      ]
     },
     "execution_count": 11,
     "metadata": {},
     "output_type": "execute_result"
    }
   ],
   "source": [
    "ftr_names = vectorizer.get_feature_names()\n",
    "\n",
    "visualizer = FreqDistVisualizer(features=ftr_names, n=20)\n",
    "visualizer.fit(features)\n",
    "visualizer.show()"
   ]
  }
 ],
 "metadata": {
  "kernelspec": {
   "display_name": "Python 3",
   "language": "python",
   "name": "python3"
  },
  "language_info": {
   "codemirror_mode": {
    "name": "ipython",
    "version": 3
   },
   "file_extension": ".py",
   "mimetype": "text/x-python",
   "name": "python",
   "nbconvert_exporter": "python",
   "pygments_lexer": "ipython3",
   "version": "3.7.3"
  }
 },
 "nbformat": 4,
 "nbformat_minor": 2
}
