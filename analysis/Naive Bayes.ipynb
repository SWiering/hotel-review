{
 "cells": [
  {
   "cell_type": "code",
   "execution_count": 1,
   "metadata": {},
   "outputs": [],
   "source": [
    "import nltk\n",
    "import pandas as pd\n",
    "import sqlalchemy as sql\n",
    "from nltk.classify.util import accuracy\n",
    "from nltk.classify import NaiveBayesClassifier\n",
    "from sklearn.metrics import confusion_matrix  \n",
    "from sklearn.metrics import roc_curve\n",
    "from sklearn.metrics import roc_auc_score"
   ]
  },
  {
   "cell_type": "code",
   "execution_count": 2,
   "metadata": {},
   "outputs": [],
   "source": [
    "# Disable the next line if punkt is not downloaded yet\n",
    "# nltk.download('punkt')"
   ]
  },
  {
   "cell_type": "markdown",
   "metadata": {},
   "source": [
    "# Setting functions / globals"
   ]
  },
  {
   "cell_type": "code",
   "execution_count": 3,
   "metadata": {},
   "outputs": [],
   "source": [
    "def format_sentence(sentence):\n",
    "    return({word: True for word in nltk.word_tokenize(sentence)})\n"
   ]
  },
  {
   "cell_type": "code",
   "execution_count": 4,
   "metadata": {},
   "outputs": [],
   "source": [
    "# Set limit for reviews\n",
    "MAX_LIMIT = 100000\n",
    "# Create database connection\n",
    "def call_procedure(function_name, params):\n",
    "    \n",
    "    connection = sql.create_engine('mysql://root:@localhost/hotel-reviews?charset=utf8').raw_connection()\n",
    "    try:\n",
    "        cursor = connection.cursor()\n",
    "        cursor.callproc(function_name, params)\n",
    "        results = list(cursor.fetchall())\n",
    "        cursor.close()\n",
    "        connection.commit()\n",
    "        return results\n",
    "    finally:\n",
    "        connection.close()"
   ]
  },
  {
   "cell_type": "markdown",
   "metadata": {},
   "source": [
    "## Getting all reviews"
   ]
  },
  {
   "cell_type": "code",
   "execution_count": 5,
   "metadata": {},
   "outputs": [
    {
     "name": "stdout",
     "output_type": "stream",
     "text": [
      "length pos: 100000 length neg: 100000\n"
     ]
    }
   ],
   "source": [
    "pos = pd.DataFrame(call_procedure('getReviews', [MAX_LIMIT, 1]), columns=['id', 'content', 'positive'])\n",
    "neg = pd.DataFrame(call_procedure('getReviews', [MAX_LIMIT, 0]), columns=['id', 'content', 'positive'])\n",
    "\n",
    "print('length pos:', len(pos), 'length neg:', len(neg))"
   ]
  },
  {
   "cell_type": "code",
   "execution_count": 6,
   "metadata": {},
   "outputs": [],
   "source": [
    "pos_list = []\n",
    "for val in pos.loc[:, 'content'].tolist():\n",
    "    pos_list.append([format_sentence(val), 'Positive'])\n",
    "    \n",
    "neg_list = []\n",
    "for val in neg.loc[:, 'content'].tolist():\n",
    "    neg_list.append([format_sentence(val), 'Negative'])"
   ]
  },
  {
   "cell_type": "markdown",
   "metadata": {},
   "source": [
    "## Setting training variables etc"
   ]
  },
  {
   "cell_type": "code",
   "execution_count": 7,
   "metadata": {},
   "outputs": [],
   "source": [
    "training_limit = int(MAX_LIMIT * .8)\n",
    "\n",
    "training = pos_list[:training_limit] + neg_list[:training_limit]\n",
    "test = pos_list[training_limit:] + neg_list[training_limit:]"
   ]
  },
  {
   "cell_type": "code",
   "execution_count": 8,
   "metadata": {},
   "outputs": [
    {
     "name": "stdout",
     "output_type": "stream",
     "text": [
      "Most Informative Features\n",
      "                  Superb = True           Positi : Negati =    145.0 : 1.0\n",
      "                Friendly = True           Positi : Negati =    123.2 : 1.0\n",
      "               Fantastic = True           Positi : Negati =    112.4 : 1.0\n",
      "                Spacious = True           Positi : Negati =    111.4 : 1.0\n",
      "                   Quiet = True           Positi : Negati =    105.9 : 1.0\n",
      "                Pleasant = True           Positi : Negati =    101.7 : 1.0\n",
      "                   Comfy = True           Positi : Negati =    100.5 : 1.0\n",
      "               Beautiful = True           Positi : Negati =     99.1 : 1.0\n",
      "               Excellent = True           Positi : Negati =     96.0 : 1.0\n",
      "             Comfortable = True           Positi : Negati =     88.5 : 1.0\n"
     ]
    }
   ],
   "source": [
    "classifier = NaiveBayesClassifier.train(training)\n",
    "classifier.show_most_informative_features()"
   ]
  },
  {
   "cell_type": "code",
   "execution_count": 9,
   "metadata": {},
   "outputs": [
    {
     "name": "stdout",
     "output_type": "stream",
     "text": [
      "0.906\n"
     ]
    }
   ],
   "source": [
    "print(accuracy(classifier, test))"
   ]
  },
  {
   "cell_type": "code",
   "execution_count": 10,
   "metadata": {},
   "outputs": [],
   "source": [
    "result_prediction = []\n",
    "result_actual = []\n",
    "\n",
    "for i in range(len(test)):\n",
    "    result_prediction.append(classifier.classify(test[i][0]))\n",
    "    result_actual.append(test[i][1])"
   ]
  },
  {
   "cell_type": "code",
   "execution_count": 11,
   "metadata": {},
   "outputs": [
    {
     "name": "stdout",
     "output_type": "stream",
     "text": [
      "\n",
      "Confusion matrix:\n",
      " [[19163   837]\n",
      " [ 2923 17077]]\n"
     ]
    }
   ],
   "source": [
    "print ('\\nConfusion matrix:\\n',confusion_matrix(result_actual, result_prediction))"
   ]
  }
 ],
 "metadata": {
  "kernelspec": {
   "display_name": "Python 3",
   "language": "python",
   "name": "python3"
  },
  "language_info": {
   "codemirror_mode": {
    "name": "ipython",
    "version": 3
   },
   "file_extension": ".py",
   "mimetype": "text/x-python",
   "name": "python",
   "nbconvert_exporter": "python",
   "pygments_lexer": "ipython3",
   "version": "3.7.4"
  }
 },
 "nbformat": 4,
 "nbformat_minor": 2
}
