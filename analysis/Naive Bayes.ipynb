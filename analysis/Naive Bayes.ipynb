{
 "cells": [
  {
   "cell_type": "code",
   "execution_count": 1,
   "metadata": {},
   "outputs": [],
   "source": [
    "import nltk\n",
    "import pandas as pd\n",
    "import sqlalchemy as sql\n",
    "from nltk.classify.util import accuracy\n",
    "from nltk.classify import NaiveBayesClassifier\n",
    "from sklearn.metrics import roc_curve\n",
    "from sklearn.metrics import roc_auc_score"
   ]
  },
  {
   "cell_type": "code",
   "execution_count": 2,
   "metadata": {},
   "outputs": [],
   "source": [
    "# Disable the next line if punkt is not downloaded yet\n",
    "# nltk.download('punkt')"
   ]
  },
  {
   "cell_type": "markdown",
   "metadata": {},
   "source": [
    "# Setting functions / globals"
   ]
  },
  {
   "cell_type": "code",
   "execution_count": 3,
   "metadata": {},
   "outputs": [],
   "source": [
    "def format_sentence(sentence):\n",
    "    return({word: True for word in nltk.word_tokenize(sentence)})"
   ]
  },
  {
   "cell_type": "code",
   "execution_count": 4,
   "metadata": {},
   "outputs": [],
   "source": [
    "# Set limit for reviews\n",
    "MAX_LIMIT = 200000\n",
    "# Create database connection\n",
    "def call_procedure(function_name, params):\n",
    "    \n",
    "    connection = sql.create_engine('mysql://root:@localhost/hotel-reviews?charset=utf8').raw_connection()\n",
    "    try:\n",
    "        cursor = connection.cursor()\n",
    "        cursor.callproc(function_name, params)\n",
    "        results = list(cursor.fetchall())\n",
    "        cursor.close()\n",
    "        connection.commit()\n",
    "        return results\n",
    "    finally:\n",
    "        connection.close()"
   ]
  },
  {
   "cell_type": "markdown",
   "metadata": {},
   "source": [
    "## Getting all reviews"
   ]
  },
  {
   "cell_type": "code",
   "execution_count": 5,
   "metadata": {},
   "outputs": [
    {
     "name": "stdout",
     "output_type": "stream",
     "text": [
      "length pos: 200000 length neg: 200000\n"
     ]
    }
   ],
   "source": [
    "pos = pd.DataFrame(call_procedure('getReviews', [MAX_LIMIT, 1]), columns=['id', 'content', 'positive'])\n",
    "neg = pd.DataFrame(call_procedure('getReviews', [MAX_LIMIT, 0]), columns=['id', 'content', 'positive'])\n",
    "\n",
    "print('length pos:', len(pos), 'length neg:', len(neg))"
   ]
  },
  {
   "cell_type": "code",
   "execution_count": 6,
   "metadata": {},
   "outputs": [],
   "source": [
    "pos_list = []\n",
    "for val in pos.loc[:, 'content'].tolist():\n",
    "    pos_list.append([format_sentence(val), 'pos'])\n",
    "    \n",
    "neg_list = []\n",
    "for val in neg.loc[:, 'content'].tolist():\n",
    "    neg_list.append([format_sentence(val), 'neg'])"
   ]
  },
  {
   "cell_type": "markdown",
   "metadata": {},
   "source": [
    "## Setting training variables etc"
   ]
  },
  {
   "cell_type": "code",
   "execution_count": 7,
   "metadata": {},
   "outputs": [],
   "source": [
    "training_limit = int(MAX_LIMIT * .8)\n",
    "\n",
    "training = pos_list[:training_limit] + neg_list[:training_limit]\n",
    "test = pos_list[training_limit:] + neg_list[training_limit:]"
   ]
  },
  {
   "cell_type": "code",
   "execution_count": 8,
   "metadata": {},
   "outputs": [
    {
     "name": "stdout",
     "output_type": "stream",
     "text": [
      "Most Informative Features\n",
      "                Friendly = True              pos : neg    =    162.5 : 1.0\n",
      "                   Comfy = True              pos : neg    =    148.5 : 1.0\n",
      "                  leaked = True              neg : pos    =    144.3 : 1.0\n",
      "               Brilliant = True              pos : neg    =    132.1 : 1.0\n",
      "                  Superb = True              pos : neg    =    125.3 : 1.0\n",
      "                Spacious = True              pos : neg    =    122.8 : 1.0\n",
      "                 cracked = True              neg : pos    =    119.0 : 1.0\n",
      "               Fantastic = True              pos : neg    =    115.8 : 1.0\n",
      "               Excellent = True              pos : neg    =    105.9 : 1.0\n",
      "                  loudly = True              neg : pos    =    103.0 : 1.0\n"
     ]
    }
   ],
   "source": [
    "classifier = NaiveBayesClassifier.train(training)\n",
    "classifier.show_most_informative_features()"
   ]
  },
  {
   "cell_type": "code",
   "execution_count": 9,
   "metadata": {},
   "outputs": [
    {
     "name": "stdout",
     "output_type": "stream",
     "text": [
      "0.906725\n"
     ]
    }
   ],
   "source": [
    "print(accuracy(classifier, test))"
   ]
  },
  {
   "cell_type": "code",
   "execution_count": 10,
   "metadata": {},
   "outputs": [],
   "source": [
    "result_prediction = []\n",
    "result_actual = []\n",
    "\n",
    "for i in range(len(test)):\n",
    "    result_prediction.append(classifier.classify(test[i][0]))\n",
    "    result_actual.append(test[i][1])"
   ]
  },
  {
   "cell_type": "code",
   "execution_count": 11,
   "metadata": {},
   "outputs": [
    {
     "name": "stdout",
     "output_type": "stream",
     "text": [
      "    |     n     p |\n",
      "    |     e     o |\n",
      "    |     g     s |\n",
      "----+-------------+\n",
      "neg |<38539> 1461 |\n",
      "pos |  6001<33999>|\n",
      "----+-------------+\n",
      "(row = reference; col = test)\n",
      "\n"
     ]
    }
   ],
   "source": [
    "print(nltk.ConfusionMatrix(result_actual, result_prediction))"
   ]
  },
  {
   "cell_type": "code",
   "execution_count": 12,
   "metadata": {},
   "outputs": [
    {
     "name": "stdout",
     "output_type": "stream",
     "text": [
      "neg\n",
      "neg\n"
     ]
    }
   ],
   "source": [
    "with open('../src/review3.csv', 'r') as review3:\n",
    "    print(classifier.classify(format_sentence(review3.read())))\n",
    "    \n",
    "with open('../src/review4.csv', 'r') as review4:\n",
    "    print(classifier.classify(format_sentence(review4.read())))"
   ]
  }
 ],
 "metadata": {
  "kernelspec": {
   "display_name": "Python 3",
   "language": "python",
   "name": "python3"
  },
  "language_info": {
   "codemirror_mode": {
    "name": "ipython",
    "version": 3
   },
   "file_extension": ".py",
   "mimetype": "text/x-python",
   "name": "python",
   "nbconvert_exporter": "python",
   "pygments_lexer": "ipython3",
   "version": "3.7.3"
  }
 },
 "nbformat": 4,
 "nbformat_minor": 2
}
