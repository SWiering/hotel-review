{
 "cells": [
  {
   "cell_type": "code",
   "execution_count": 1,
   "metadata": {},
   "outputs": [],
   "source": [
    "import pandas as pd\n",
    "import sqlalchemy as sqla\n",
    "\n",
    "from pymongo import MongoClient"
   ]
  },
  {
   "cell_type": "code",
   "execution_count": 2,
   "metadata": {},
   "outputs": [],
   "source": [
    "reviews = pd.read_csv('../src/reviews.csv')"
   ]
  },
  {
   "cell_type": "code",
   "execution_count": 3,
   "metadata": {},
   "outputs": [],
   "source": [
    "def create_rev_df(df, optional_cols=[], positive=0, ren_cols={}):\n",
    "    # Columns that need to be used everytime\n",
    "    mandatory_cols = ['Hotel_Name', 'lat', 'lng', 'Review_Total_Negative_Word_Counts', 'Average_Score']\n",
    "    \n",
    "    # get the most intersting columns from the dataframe\n",
    "    _cols = optional_cols + mandatory_cols\n",
    "    the_df = df.loc[:, _cols]\n",
    "    \n",
    "    the_df['positive'] = positive\n",
    "    \n",
    "    # This rename is mandatory and is all kinds of reviews\n",
    "    mandatory_ren = {\n",
    "        'Hotel_Name': 'name',\n",
    "        'Review_Total_Negative_Word_Counts': 'word_count',\n",
    "        'Average_Score': 'score'\n",
    "    }\n",
    "    \n",
    "    # Merge dictonary and rename the columsn\n",
    "    ren_cols.update(mandatory_ren)\n",
    "    the_df = the_df.rename(columns=ren_cols)\n",
    "    \n",
    "    # Return only the reviews with content\n",
    "    return the_df[the_df.word_count != 0]"
   ]
  },
  {
   "cell_type": "code",
   "execution_count": 4,
   "metadata": {},
   "outputs": [],
   "source": [
    "neg_df = create_rev_df(reviews, ['Negative_Review'], 0, {'Negative_Review': 'review'})"
   ]
  },
  {
   "cell_type": "code",
   "execution_count": 5,
   "metadata": {},
   "outputs": [],
   "source": [
    "pos_df = create_rev_df(reviews, ['Positive_Review'], 1, {'Positive_Review': 'review'})"
   ]
  },
  {
   "cell_type": "code",
   "execution_count": 6,
   "metadata": {},
   "outputs": [],
   "source": [
    "reviews_df = pd.concat([neg_df, pos_df]).reset_index(drop=True)"
   ]
  },
  {
   "cell_type": "code",
   "execution_count": 7,
   "metadata": {},
   "outputs": [],
   "source": [
    "client = MongoClient(\"localhost:27017\")\n",
    "db=client.hotels"
   ]
  },
  {
   "cell_type": "code",
   "execution_count": 8,
   "metadata": {},
   "outputs": [
    {
     "data": {
      "text/plain": [
       "<pymongo.results.InsertManyResult at 0x144481728c8>"
      ]
     },
     "execution_count": 8,
     "metadata": {},
     "output_type": "execute_result"
    }
   ],
   "source": [
    "db.reviews.insert_many(reviews_df.to_dict('records'))"
   ]
  }
 ],
 "metadata": {
  "kernelspec": {
   "display_name": "Python 3",
   "language": "python",
   "name": "python3"
  },
  "language_info": {
   "codemirror_mode": {
    "name": "ipython",
    "version": 3
   },
   "file_extension": ".py",
   "mimetype": "text/x-python",
   "name": "python",
   "nbconvert_exporter": "python",
   "pygments_lexer": "ipython3",
   "version": "3.7.3"
  }
 },
 "nbformat": 4,
 "nbformat_minor": 2
}
