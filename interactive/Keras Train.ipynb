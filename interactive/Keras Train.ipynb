{
 "cells": [
  {
   "cell_type": "code",
   "execution_count": 1,
   "metadata": {},
   "outputs": [],
   "source": [
    "import pandas as pd\n",
    "import numpy as np\n",
    "import dask.dataframe as ddf\n",
    "import re\n",
    "from pymongo import MongoClient\n",
    "\n",
    "# tensorflow imports\n",
    "from tensorflow.keras.preprocessing.text import one_hot, Tokenizer\n",
    "from tensorflow.keras.preprocessing.sequence import pad_sequences\n",
    "from tensorflow.keras.models import Sequential\n",
    "from tensorflow.keras.layers import (\n",
    "    Activation,\n",
    "    Dropout,\n",
    "    Dense,\n",
    "    Flatten,\n",
    "    GlobalMaxPooling1D,\n",
    "    Embedding,\n",
    "    LSTM\n",
    ")\n",
    "from tensorflow.keras.initializers import RandomUniform, glorot_uniform\n",
    "from tensorflow.keras.optimizers import Adam\n",
    "from sklearn.model_selection import train_test_split\n",
    "from nltk.corpus import stopwords\n",
    "from nltk.tokenize import word_tokenize"
   ]
  },
  {
   "cell_type": "markdown",
   "metadata": {},
   "source": [
    "## Collect all Data"
   ]
  },
  {
   "cell_type": "code",
   "execution_count": 2,
   "metadata": {},
   "outputs": [],
   "source": [
    "# get data from database\n",
    "client = MongoClient('localhost:27017')\n",
    "db = client.hotels\n",
    "collection = db.reviews.find()\n",
    "\n",
    "# transform to pandas dataframe\n",
    "all_reviews = pd.DataFrame(list(collection), columns=['review', 'positive'])"
   ]
  },
  {
   "cell_type": "markdown",
   "metadata": {},
   "source": [
    "## Function to pre proces text"
   ]
  },
  {
   "cell_type": "code",
   "execution_count": 3,
   "metadata": {},
   "outputs": [],
   "source": [
    "# this function is used for apply\n",
    "def proces_text(row):\n",
    "    \n",
    "    the_text = row['review']\n",
    "\n",
    "    row['review'] = proces_text_only(the_text)    \n",
    "    \n",
    "    return row\n",
    "\n",
    "# this function is used for only text\n",
    "def proces_text_only(text_only):\n",
    "    # Remove all the special characters (pro_fea = processed feature)\n",
    "    pro_fea = re.sub(r'\\W', ' ', text_only)\n",
    "    # remove all single characters\n",
    "    pro_fea = re.sub(r'\\s+[a-zA-Z]\\s+', ' ', pro_fea)\n",
    "    # Remove single characters from the start\n",
    "    pro_fea = re.sub(r'\\^[a-zA-Z]\\s+', ' ', pro_fea) \n",
    "    # Substituting multiple spaces with single space\n",
    "    pro_fea = re.sub(r'\\s+', ' ', pro_fea, flags=re.I)\n",
    "    # Removing prefixed 'b'\n",
    "    pro_fea = re.sub(r'^b\\s+', '', pro_fea)\n",
    "    # Converting to Lowercase\n",
    "    return pro_fea.lower()    "
   ]
  },
  {
   "cell_type": "markdown",
   "metadata": {},
   "source": [
    "## Apply all the function to all rows"
   ]
  },
  {
   "cell_type": "code",
   "execution_count": 4,
   "metadata": {},
   "outputs": [],
   "source": [
    "# proc_rev = all_reviews.apply(proces_text, axis=1)\n",
    "ddf_reviews = ddf.from_pandas(all_reviews, npartitions=7)\n",
    "ddf_rev_pr = ddf_reviews.apply(proces_text, axis=1, meta={'review': 'object', 'positive': 'int64'})"
   ]
  },
  {
   "cell_type": "code",
   "execution_count": 5,
   "metadata": {},
   "outputs": [],
   "source": [
    "df_rev = ddf_rev_pr.compute()"
   ]
  },
  {
   "cell_type": "markdown",
   "metadata": {},
   "source": [
    "## Set Axis info"
   ]
  },
  {
   "cell_type": "code",
   "execution_count": 6,
   "metadata": {},
   "outputs": [],
   "source": [
    "# Max limit\n",
    "REV_LIMIT = 100000\n",
    "# Get negative and positive reviews\n",
    "rev_negatives = df_rev[df_rev.positive == 0][:REV_LIMIT]\n",
    "rev_positives = df_rev[df_rev.positive == 1][:REV_LIMIT]\n",
    "\n",
    "# Concat positive and negative reviews\n",
    "rev_balanced = pd.concat([rev_negatives, rev_positives]).reset_index(drop=True)\n",
    "\n",
    "# Convert the column review and positive to np array\n",
    "X = np.array(list(rev_balanced.loc[:, 'review']))\n",
    "y = np.array(list(rev_balanced.loc[:, 'positive']))"
   ]
  },
  {
   "cell_type": "code",
   "execution_count": 7,
   "metadata": {},
   "outputs": [],
   "source": [
    "X_train, X_test, y_train, y_test = train_test_split(X, y, train_size=0.80, random_state=42)"
   ]
  },
  {
   "cell_type": "markdown",
   "metadata": {},
   "source": [
    "## Tokenizer to save vocabulary"
   ]
  },
  {
   "cell_type": "code",
   "execution_count": 8,
   "metadata": {},
   "outputs": [],
   "source": [
    "# Set max words of the vocabulary\n",
    "max_words=5000\n",
    "tokenizer = Tokenizer(num_words=max_words)\n",
    "tokenizer.fit_on_texts(X_train)\n",
    "\n",
    "# Save the tokenizer as pickle file so it can be loaded from disk\n",
    "# with open('tokenizer.pickle', 'wb') as handle:\n",
    "#     pickle.dump(tokenizer, handle, protocol=pickle.HIGHEST_PROTOCOL)\n",
    "\n",
    "X_train = tokenizer.texts_to_sequences(X_train)\n",
    "X_test = tokenizer.texts_to_sequences(X_test)"
   ]
  },
  {
   "cell_type": "markdown",
   "metadata": {},
   "source": [
    "# ADD EXPLANATION HERE"
   ]
  },
  {
   "cell_type": "code",
   "execution_count": 9,
   "metadata": {},
   "outputs": [],
   "source": [
    "# Convert into 2D numpy array\n",
    "maxlen = 100\n",
    "X_train = pad_sequences(X_train, padding='post', maxlen=maxlen)\n",
    "X_test = pad_sequences(X_test, padding='post', maxlen=maxlen)"
   ]
  },
  {
   "cell_type": "markdown",
   "metadata": {},
   "source": [
    "# Add layers to model"
   ]
  },
  {
   "cell_type": "code",
   "execution_count": 10,
   "metadata": {},
   "outputs": [],
   "source": [
    "# the lower/higer the paramaters, the higher te contrast of random numbers, seed is used to reproduce the same effect\n",
    "# this uniform is later used in the embedding layer of the model\n",
    "e_init = RandomUniform(-0.01, 0.01, seed=1)\n",
    "# This uniform is used for for the LSTM and Dense layer of the model\n",
    "init = glorot_uniform(seed=1)\n",
    "# used in compile as optimizer\n",
    "simple_adam = Adam()\n",
    "# Total weights is also calculated using this variable\n",
    "embed_vec_len = 32  # values per word"
   ]
  },
  {
   "cell_type": "code",
   "execution_count": 11,
   "metadata": {},
   "outputs": [],
   "source": [
    "model = Sequential()\n",
    "\n",
    "model.add(\n",
    "    Embedding(\n",
    "        # input_dim = size of vocab\n",
    "        input_dim=max_words,\n",
    "        # Dimension of embedding\n",
    "        output_dim=embed_vec_len,\n",
    "        \n",
    "        embeddings_initializer=e_init,\n",
    "        mask_zero=True\n",
    "    )\n",
    ")\n",
    "\n",
    "# Add LSTM network\n",
    "model.add(\n",
    "    LSTM(\n",
    "        units=100,\n",
    "        kernel_initializer=init,\n",
    "        dropout=0.2,\n",
    "        recurrent_dropout=0.2\n",
    "    )\n",
    ")\n",
    "\n",
    "model.add(\n",
    "    Dense(\n",
    "        units=1,\n",
    "        kernel_initializer=init,\n",
    "        activation='sigmoid'\n",
    "    )\n",
    ")"
   ]
  },
  {
   "cell_type": "markdown",
   "metadata": {},
   "source": [
    "# Compile Model"
   ]
  },
  {
   "cell_type": "code",
   "execution_count": 12,
   "metadata": {},
   "outputs": [
    {
     "name": "stdout",
     "output_type": "stream",
     "text": [
      "Model: \"sequential\"\n",
      "_________________________________________________________________\n",
      "Layer (type)                 Output Shape              Param #   \n",
      "=================================================================\n",
      "embedding (Embedding)        (None, None, 32)          160000    \n",
      "_________________________________________________________________\n",
      "lstm (LSTM)                  (None, 100)               53200     \n",
      "_________________________________________________________________\n",
      "dense (Dense)                (None, 1)                 101       \n",
      "=================================================================\n",
      "Total params: 213,301\n",
      "Trainable params: 213,301\n",
      "Non-trainable params: 0\n",
      "_________________________________________________________________\n"
     ]
    }
   ],
   "source": [
    "model.compile(\n",
    "    loss='binary_crossentropy',\n",
    "    optimizer=simple_adam,\n",
    "    metrics=['acc']\n",
    ")\n",
    "\n",
    "model.summary()"
   ]
  },
  {
   "cell_type": "markdown",
   "metadata": {},
   "source": [
    "## Start training model with given parameters"
   ]
  },
  {
   "cell_type": "code",
   "execution_count": 13,
   "metadata": {
    "scrolled": true
   },
   "outputs": [
    {
     "name": "stdout",
     "output_type": "stream",
     "text": [
      "Train on 160000 samples\n",
      "Epoch 1/3\n",
      "160000/160000 [==============================] - 377s 2ms/sample - loss: 0.1864 - acc: 0.9337\n",
      "Epoch 2/3\n",
      "160000/160000 [==============================] - 343s 2ms/sample - loss: 0.1457 - acc: 0.9483\n",
      "Epoch 3/3\n",
      "160000/160000 [==============================] - 287s 2ms/sample - loss: 0.1311 - acc: 0.9544\n"
     ]
    }
   ],
   "source": [
    "bat_size = 32\n",
    "max_epochs = 3\n",
    "\n",
    "sentiment_analyzer = model.fit(\n",
    "    X_train,\n",
    "    y_train,\n",
    "    epochs=max_epochs,\n",
    "    batch_size=bat_size,\n",
    "    shuffle=True,\n",
    "    verbose=1\n",
    ") "
   ]
  },
  {
   "cell_type": "code",
   "execution_count": 14,
   "metadata": {},
   "outputs": [
    {
     "name": "stdout",
     "output_type": "stream",
     "text": [
      "Test data: loss = 0.136676  accuracy = 95.18% \n"
     ]
    }
   ],
   "source": [
    "loss_acc = model.evaluate(X_test, y_test, verbose=0)\n",
    "print(\"Test data: loss = %0.6f  accuracy = %0.2f%% \" % \\\n",
    "  (loss_acc[0], loss_acc[1]*100))"
   ]
  },
  {
   "cell_type": "markdown",
   "metadata": {},
   "source": [
    "## Save model + weights to disk"
   ]
  },
  {
   "cell_type": "code",
   "execution_count": 15,
   "metadata": {},
   "outputs": [],
   "source": [
    "# serialize model to JSON\n",
    "# model_json = model.to_json()\n",
    "# with open(\"rev_sent_model.json\", \"w\") as json_file:\n",
    "#     json_file.write(model_json)\n",
    "# serialize weights to HDF5\n",
    "# model.save_weights(\"rev_sent_model.h5\")\n",
    "# print(\"Saved model to disk\")"
   ]
  },
  {
   "cell_type": "markdown",
   "metadata": {},
   "source": [
    "## Testing on single review"
   ]
  },
  {
   "cell_type": "code",
   "execution_count": 16,
   "metadata": {},
   "outputs": [
    {
     "name": "stdout",
     "output_type": "stream",
     "text": [
      "This review is negative\n",
      "0.003162171\n"
     ]
    }
   ],
   "source": [
    "example_review = df_rev.iloc[220]['review']\n",
    "example_review = proces_text_only(example_review)\n",
    "stop_words = set(stopwords.words('english'))\n",
    "word_tokens = word_tokenize(example_review)\n",
    "\n",
    "filtered_sentence = [w for w in word_tokens if not w in stop_words] \n",
    "  \n",
    "filtered_sentence = [] \n",
    "  \n",
    "for w in word_tokens: \n",
    "    if w not in stop_words: \n",
    "        filtered_sentence.append(w)\n",
    "\n",
    "the_rev = tokenizer.texts_to_sequences(filtered_sentence)\n",
    "\n",
    "ent_list = []\n",
    "\n",
    "for sublist in the_rev:\n",
    "    for item in sublist:\n",
    "        ent_list.append(item)\n",
    "\n",
    "instance = pad_sequences([ent_list], padding='post', maxlen=maxlen)\n",
    "\n",
    "print('This review is positive') if model.predict(instance)[0][0] > 0.5 else print('This review is negative')\n",
    "print(model.predict(instance)[0][0])"
   ]
  },
  {
   "cell_type": "code",
   "execution_count": 25,
   "metadata": {},
   "outputs": [
    {
     "ename": "KeyError",
     "evalue": "'val_acc'",
     "output_type": "error",
     "traceback": [
      "\u001b[1;31m---------------------------------------------------------------------------\u001b[0m",
      "\u001b[1;31mKeyError\u001b[0m                                  Traceback (most recent call last)",
      "\u001b[1;32m<ipython-input-25-de7bae484d89>\u001b[0m in \u001b[0;36m<module>\u001b[1;34m\u001b[0m\n\u001b[0;32m      3\u001b[0m \u001b[1;31m# Plot training & validation accuracy values\u001b[0m\u001b[1;33m\u001b[0m\u001b[1;33m\u001b[0m\u001b[1;33m\u001b[0m\u001b[0m\n\u001b[0;32m      4\u001b[0m \u001b[0mplt\u001b[0m\u001b[1;33m.\u001b[0m\u001b[0mplot\u001b[0m\u001b[1;33m(\u001b[0m\u001b[0msentiment_analyzer\u001b[0m\u001b[1;33m.\u001b[0m\u001b[0mhistory\u001b[0m\u001b[1;33m[\u001b[0m\u001b[1;34m'acc'\u001b[0m\u001b[1;33m]\u001b[0m\u001b[1;33m)\u001b[0m\u001b[1;33m\u001b[0m\u001b[1;33m\u001b[0m\u001b[0m\n\u001b[1;32m----> 5\u001b[1;33m \u001b[0mplt\u001b[0m\u001b[1;33m.\u001b[0m\u001b[0mplot\u001b[0m\u001b[1;33m(\u001b[0m\u001b[0msentiment_analyzer\u001b[0m\u001b[1;33m.\u001b[0m\u001b[0mhistory\u001b[0m\u001b[1;33m[\u001b[0m\u001b[1;34m'val_acc'\u001b[0m\u001b[1;33m]\u001b[0m\u001b[1;33m)\u001b[0m\u001b[1;33m\u001b[0m\u001b[1;33m\u001b[0m\u001b[0m\n\u001b[0m\u001b[0;32m      6\u001b[0m \u001b[0mplt\u001b[0m\u001b[1;33m.\u001b[0m\u001b[0mtitle\u001b[0m\u001b[1;33m(\u001b[0m\u001b[1;34m'Model accuracy'\u001b[0m\u001b[1;33m)\u001b[0m\u001b[1;33m\u001b[0m\u001b[1;33m\u001b[0m\u001b[0m\n\u001b[0;32m      7\u001b[0m \u001b[0mplt\u001b[0m\u001b[1;33m.\u001b[0m\u001b[0mylabel\u001b[0m\u001b[1;33m(\u001b[0m\u001b[1;34m'Accuracy'\u001b[0m\u001b[1;33m)\u001b[0m\u001b[1;33m\u001b[0m\u001b[1;33m\u001b[0m\u001b[0m\n",
      "\u001b[1;31mKeyError\u001b[0m: 'val_acc'"
     ]
    }
   ],
   "source": [
    "import matplotlib.pyplot as plt\n",
    "\n",
    "# Plot training & validation accuracy values\n",
    "plt.plot(sentiment_analyzer.history['acc'])\n",
    "plt.plot(sentiment_analyzer.history['val_acc'])\n",
    "plt.title('Model accuracy')\n",
    "plt.ylabel('Accuracy')\n",
    "plt.xlabel('Epoch')\n",
    "plt.legend(['Train', 'Test'], loc='upper left')\n",
    "plt.show()\n",
    "\n",
    "# Plot training & validation loss values\n",
    "plt.plot(sentiment_analyzer.history['loss'])\n",
    "plt.plot(sentiment_analyzer.history['val_loss'])\n",
    "plt.title('Model loss')\n",
    "plt.ylabel('Loss')\n",
    "plt.xlabel('Epoch')\n",
    "plt.legend(['Train', 'Test'], loc='upper left')\n",
    "plt.show()"
   ]
  }
 ],
 "metadata": {
  "kernelspec": {
   "display_name": "Python 3",
   "language": "python",
   "name": "python3"
  },
  "language_info": {
   "codemirror_mode": {
    "name": "ipython",
    "version": 3
   },
   "file_extension": ".py",
   "mimetype": "text/x-python",
   "name": "python",
   "nbconvert_exporter": "python",
   "pygments_lexer": "ipython3",
   "version": "3.7.3"
  }
 },
 "nbformat": 4,
 "nbformat_minor": 2
}
