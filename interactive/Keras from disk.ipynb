{
 "cells": [
  {
   "cell_type": "code",
   "execution_count": 1,
   "metadata": {},
   "outputs": [],
   "source": [
    "from tensorflow.keras.models import model_from_json\n",
    "from nltk.corpus import stopwords\n",
    "from nltk.tokenize import word_tokenize\n",
    "from tensorflow.keras.preprocessing.sequence import pad_sequences\n",
    "import re\n",
    "import pickle\n",
    "\n",
    "# load model\n",
    "with open('rev_sent_model.json', 'r') as json_file:\n",
    "    loaded_model_json = json_file.read()\n",
    "    loaded_model = model_from_json(loaded_model_json)\n",
    "\n",
    "# load weights into model\n",
    "loaded_model.load_weights(\"rev_sent_model.h5\")\n",
    "\n",
    "# Load tokenizer\n",
    "with open('tokenizer.pickle', 'rb') as handle:\n",
    "    tokenizer = pickle.load(handle)"
   ]
  },
  {
   "cell_type": "code",
   "execution_count": 2,
   "metadata": {},
   "outputs": [],
   "source": [
    "# this function is used for only text\n",
    "def proces_text_only(text_only):\n",
    "    # Remove all the special characters (pro_fea = processed feature)\n",
    "    pro_fea = re.sub(r'\\W', ' ', text_only)\n",
    "    # remove all single characters\n",
    "    pro_fea = re.sub(r'\\s+[a-zA-Z]\\s+', ' ', pro_fea)\n",
    "    # Remove single characters from the start\n",
    "    pro_fea = re.sub(r'\\^[a-zA-Z]\\s+', ' ', pro_fea) \n",
    "    # Substituting multiple spaces with single space\n",
    "    pro_fea = re.sub(r'\\s+', ' ', pro_fea, flags=re.I)\n",
    "    # Removing prefixed 'b'\n",
    "    pro_fea = re.sub(r'^b\\s+', '', pro_fea)\n",
    "    # Converting to Lowercase\n",
    "    return pro_fea.lower()\n",
    "\n",
    "\n",
    "stop_words = set(stopwords.words('english'))\n",
    "    \n",
    "def prep_sentence(the_text):\n",
    "    the_text = proces_text_only(the_text)\n",
    "    word_tokens = word_tokenize(the_text)\n",
    "\n",
    "    filtered_sentence = [w for w in word_tokens if not w in stop_words] \n",
    "\n",
    "    filtered_sentence = [] \n",
    "\n",
    "    for w in word_tokens: \n",
    "        if w not in stop_words: \n",
    "            filtered_sentence.append(w)\n",
    "\n",
    "    the_rev = tokenizer.texts_to_sequences(filtered_sentence)\n",
    "\n",
    "    ent_list = []\n",
    "\n",
    "    for sublist in the_rev:\n",
    "        for item in sublist:\n",
    "            ent_list.append(item)\n",
    "            \n",
    "    return [ent_list]"
   ]
  },
  {
   "cell_type": "code",
   "execution_count": 3,
   "metadata": {},
   "outputs": [
    {
     "name": "stdout",
     "output_type": "stream",
     "text": [
      "This review is positive\n",
      "0.9778521\n"
     ]
    }
   ],
   "source": [
    "the_review = \"Good place\"\n",
    "\n",
    "instance = pad_sequences(prep_sentence(the_review), padding='post', maxlen=150)\n",
    "\n",
    "print('This review is positive') if loaded_model.predict(instance)[0][0] > 0.5 else print('This review is negative')\n",
    "print(loaded_model.predict(instance)[0][0])"
   ]
  }
 ],
 "metadata": {
  "kernelspec": {
   "display_name": "Python 3",
   "language": "python",
   "name": "python3"
  },
  "language_info": {
   "codemirror_mode": {
    "name": "ipython",
    "version": 3
   },
   "file_extension": ".py",
   "mimetype": "text/x-python",
   "name": "python",
   "nbconvert_exporter": "python",
   "pygments_lexer": "ipython3",
   "version": "3.7.3"
  }
 },
 "nbformat": 4,
 "nbformat_minor": 2
}
